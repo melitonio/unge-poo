{
 "cells": [
  {
   "cell_type": "code",
   "execution_count": 9,
   "metadata": {
    "vscode": {
     "languageId": "java"
    }
   },
   "outputs": [
    {
     "name": "stdout",
     "output_type": "stream",
     "text": [
      "El coche 1 es un Toyota de color Rojo y va a 120 km/h\n",
      "El coche 2 es un Ford de color Azul y va a 140 km/h\n",
      "\n",
      "El coche 1 es un Toyota de color Rojo y va a 125 km/h\n",
      "El coche 2 es un Ford de color Azul y va a 145 km/h\n"
     ]
    }
   ],
   "source": [
    "// Definimos la clase (molde)\n",
    "class Coche {\n",
    "\n",
    "    String marca;\n",
    "    String color;\n",
    "    int velocidad;\n",
    "\n",
    "    // Método para acelerar\n",
    "    public void acelerar() {\n",
    "        velocidad += 5;\n",
    "    }\n",
    "}\n",
    "\n",
    "// Creamos objetos de la clase (figuras)\n",
    "Coche coche1 = new Coche();\n",
    "coche1.marca = \"Toyota\";\n",
    "coche1.color = \"Rojo\";\n",
    "coche1.velocidad = 120;\n",
    "\n",
    "Coche coche2 = new Coche();\n",
    "coche2.marca = \"Ford\";\n",
    "coche2.color = \"Azul\";\n",
    "coche2.velocidad = 140;\n",
    "\n",
    "System.out.println(\"El coche 1 es un \" + coche1.marca + \" de color \" + coche1.color + \" y va a \"\n",
    "+ coche1.velocidad + \" km/h\");\n",
    "System.out.println(\"El coche 2 es un \" + coche2.marca + \" de color \" + coche2.color + \" y va a \"\n",
    "+ coche2.velocidad + \" km/h\");\n",
    "\n",
    "coche1.acelerar();\n",
    "coche2.acelerar();\n",
    "System.out.println();\n",
    "\n",
    "System.out.println(\"El coche 1 es un \" + coche1.marca + \" de color \" + coche1.color + \" y va a \"\n",
    "        + coche1.velocidad + \" km/h\");\n",
    "System.out.println(\"El coche 2 es un \" + coche2.marca + \" de color \" + coche2.color + \" y va a \"\n",
    "        + coche2.velocidad + \" km/h\");"
   ]
  }
 ],
 "metadata": {
  "kernelspec": {
   "display_name": "Java",
   "language": "java",
   "name": "java"
  },
  "language_info": {
   "codemirror_mode": "java",
   "file_extension": ".jshell",
   "mimetype": "text/x-java-source",
   "name": "Java",
   "pygments_lexer": "java",
   "version": "11.0.26+4-post-Ubuntu-1ubuntu124.04"
  }
 },
 "nbformat": 4,
 "nbformat_minor": 2
}
