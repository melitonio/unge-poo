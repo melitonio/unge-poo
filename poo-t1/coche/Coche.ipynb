{
 "cells": [
  {
   "cell_type": "code",
   "execution_count": 3,
   "metadata": {},
   "outputs": [
    {
     "name": "stdout",
     "output_type": "stream",
     "text": [
      "El coche 1 es un Toyota de color Rojo\n",
      "El coche 2 es un Ford de color Azul\n"
     ]
    }
   ],
   "source": [
    "// Definimos la clase (molde)\n",
    "class Coche {\n",
    "    String marca;\n",
    "    String color;\n",
    "    int velocidad;\n",
    "}\n",
    "\n",
    "// Creamos objetos de la clase (figuras)\n",
    "Coche coche1 = new Coche();\n",
    "coche1.marca = \"Toyota\";\n",
    "coche1.color = \"Rojo\";\n",
    "coche1.velocidad = 120;\n",
    "\n",
    "Coche coche2 = new Coche();\n",
    "coche2.marca = \"Ford\";\n",
    "coche2.color = \"Azul\";\n",
    "coche2.velocidad = 140;\n",
    "\n",
    "System.out.println(\"El coche 1 es un \" + coche1.marca + \" de color \" + coche1.color);\n",
    "System.out.println(\"El coche 2 es un \" + coche2.marca + \" de color \" + coche2.color);"
   ]
  }
 ],
 "metadata": {
  "kernelspec": {
   "display_name": "Java",
   "language": "java",
   "name": "java"
  },
  "language_info": {
   "codemirror_mode": "java",
   "file_extension": ".jshell",
   "mimetype": "text/x-java-source",
   "name": "java",
   "pygments_lexer": "java",
   "version": "11.0.26+4-post-Ubuntu-1ubuntu124.04"
  }
 },
 "nbformat": 4,
 "nbformat_minor": 2
}
