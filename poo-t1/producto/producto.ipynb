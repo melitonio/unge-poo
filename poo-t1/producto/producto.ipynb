{
 "cells": [
  {
   "cell_type": "code",
   "execution_count": 12,
   "metadata": {
    "vscode": {
     "languageId": "java"
    }
   },
   "outputs": [
    {
     "name": "stdout",
     "output_type": "stream",
     "text": [
      "Producto: Laptop\n",
      "Precio: $1200.5\n",
      "Stock: 10\n",
      "Producto: Smartphone\n",
      "Precio: $750.99\n",
      "Stock: 5\n",
      "El nuevo precio de Laptop es: $1100.75\n",
      "Se han vendido 3 unidades de Smartphone\n",
      "Producto: Smartphone\n",
      "Precio: $750.99\n",
      "Stock: 2\n"
     ]
    }
   ],
   "source": [
    "class Producto {\n",
    "\n",
    "    // Atributos\n",
    "    String nombre;\n",
    "    double precio;\n",
    "    int stock;\n",
    "\n",
    "    // Método para actualizar el precio\n",
    "    void actualizarPrecio(double nuevoPrecio) {\n",
    "        precio = nuevoPrecio;\n",
    "        System.out.println(\"El nuevo precio de \" + nombre + \" es: $\" + precio);\n",
    "    }\n",
    "\n",
    "    // Método para vender productos\n",
    "    void vender(int cantidad) {\n",
    "        if (cantidad > stock) {\n",
    "            System.out.println(\"No hay suficiente stock de \" + nombre);\n",
    "        } else {\n",
    "            stock -= cantidad;\n",
    "            System.out.println(\"Se han vendido \" + cantidad + \" unidades de \" + nombre);\n",
    "        }\n",
    "    }\n",
    "\n",
    "    // Método para mostrar información del producto\n",
    "    void mostrarInformacion() {\n",
    "        System.out.println(\"Producto: \" + nombre + \"\\nPrecio: $\" + precio + \"\\nStock: \" + stock);\n",
    "    }\n",
    "}\n",
    "\n",
    "\n",
    "// Creando el primer producto\n",
    "Producto producto1 = new Producto();\n",
    "producto1.nombre = \"Laptop\";\n",
    "producto1.precio = 1200.50;\n",
    "producto1.stock = 10;\n",
    "\n",
    "// Creando el segundo producto\n",
    "Producto producto2 = new Producto();\n",
    "producto2.nombre = \"Smartphone\";\n",
    "producto2.precio = 750.99;\n",
    "producto2.stock = 5;\n",
    "\n",
    "// Mostrando información\n",
    "producto1.mostrarInformacion();\n",
    "producto2.mostrarInformacion();\n",
    "\n",
    "// Probando la actualización de precio\n",
    "producto1.actualizarPrecio(1100.75);\n",
    "\n",
    "// Probando la venta de productos\n",
    "producto2.vender(3);\n",
    "producto2.mostrarInformacion();"
   ]
  }
 ],
 "metadata": {
  "kernelspec": {
   "display_name": "Java",
   "language": "java",
   "name": "java"
  },
  "language_info": {
   "codemirror_mode": "java",
   "file_extension": ".jshell",
   "mimetype": "text/x-java-source",
   "name": "Java",
   "pygments_lexer": "java",
   "version": "11.0.26+4-post-Ubuntu-1ubuntu124.04"
  }
 },
 "nbformat": 4,
 "nbformat_minor": 2
}
