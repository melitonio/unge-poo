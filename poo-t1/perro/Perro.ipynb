{
 "cells": [
  {
   "cell_type": "code",
   "execution_count": 3,
   "metadata": {
    "vscode": {
     "languageId": "java"
    }
   },
   "outputs": [
    {
     "name": "stdout",
     "output_type": "stream",
     "text": [
      "Bobby está ladrando!\n"
     ]
    }
   ],
   "source": [
    "class Perro {\n",
    "    String nombre;\n",
    "    int edad;\n",
    "\n",
    "    void ladrar() {\n",
    "        System.out.println(nombre + \" está ladrando!\");\n",
    "    }\n",
    "}\n",
    "\n",
    "Perro miPerro = new Perro(); // Creación del objeto\n",
    "miPerro.nombre = \"Bobby\";\n",
    "miPerro.edad = 3;\n",
    "\n",
    "miPerro.ladrar(); // Salida: Bobby está ladrando!"
   ]
  }
 ],
 "metadata": {
  "kernelspec": {
   "display_name": "Java",
   "language": "java",
   "name": "java"
  },
  "language_info": {
   "codemirror_mode": "java",
   "file_extension": ".jshell",
   "mimetype": "text/x-java-source",
   "name": "Java",
   "pygments_lexer": "java",
   "version": "11.0.26+4-post-Ubuntu-1ubuntu124.04"
  }
 },
 "nbformat": 4,
 "nbformat_minor": 2
}
