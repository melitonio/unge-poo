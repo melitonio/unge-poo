{
 "cells": [
  {
   "cell_type": "code",
   "execution_count": 3,
   "metadata": {
    "vscode": {
     "languageId": "java"
    }
   },
   "outputs": [
    {
     "name": "stdout",
     "output_type": "stream",
     "text": [
      "Suma: 8\n",
      "Resta: 2\n",
      "Multiplicación: 15\n",
      "División: 1\n"
     ]
    }
   ],
   "source": [
    "class Calculadora {\n",
    "\n",
    "    int sumar(int a, int b) {\n",
    "        return a + b;\n",
    "    }\n",
    "\n",
    "    int restar(int a, int b) {\n",
    "        return a - b;\n",
    "    }\n",
    "\n",
    "    int multiplicar(int a, int b) {\n",
    "        return a * b;\n",
    "    }\n",
    "\n",
    "    int dividir(int a, int b) {\n",
    "        return a / b;\n",
    "    }\n",
    "}\n",
    "\n",
    "Calculadora calculadora = new Calculadora();\n",
    "System.out.println(\"Suma: \" + calculadora.sumar(5, 3));\n",
    "System.out.println(\"Resta: \" + calculadora.restar(5, 3));\n",
    "System.out.println(\"Multiplicación: \" + calculadora.multiplicar(5, 3));\n",
    "System.out.println(\"División: \" + calculadora.dividir(5, 3));"
   ]
  }
 ],
 "metadata": {
  "kernelspec": {
   "display_name": "Java",
   "language": "java",
   "name": "java"
  },
  "language_info": {
   "codemirror_mode": "java",
   "file_extension": ".jshell",
   "mimetype": "text/x-java-source",
   "name": "Java",
   "pygments_lexer": "java",
   "version": "11.0.26+4-post-Ubuntu-1ubuntu124.04"
  }
 },
 "nbformat": 4,
 "nbformat_minor": 2
}
