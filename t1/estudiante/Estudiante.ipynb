{
 "cells": [
  {
   "cell_type": "code",
   "execution_count": 3,
   "metadata": {
    "vscode": {
     "languageId": "java"
    }
   },
   "outputs": [
    {
     "name": "stdout",
     "output_type": "stream",
     "text": [
      "Hola, soy Juan Belope y estudio Grado I en Informática de Gestión Empresarial\n",
      "Juan Belope está estudiando!\n",
      "Hola, soy María Nchama y estudio Grado en Ciencias Económicas\n",
      "María Nchama está estudiando!\n"
     ]
    }
   ],
   "source": [
    "class Estudiante {\n",
    "\n",
    "    String nombre;\n",
    "    int edad;\n",
    "    String carrera;\n",
    "\n",
    "    void estudiar() {\n",
    "        System.out.println(nombre + \" está estudiando!\");\n",
    "    }\n",
    "\n",
    "    void presentarse() {\n",
    "        System.out.println(\"Hola, soy \" + nombre + \" y estudio \" + carrera);\n",
    "    }\n",
    "}\n",
    "\n",
    "Estudiante estudiante1 = new Estudiante();\n",
    "estudiante1.nombre = \"Juan Belope\";\n",
    "estudiante1.edad = 20;\n",
    "estudiante1.carrera = \"Grado I en Informática de Gestión Empresarial\";\n",
    "\n",
    "Estudiante estudiante2 = new Estudiante();\n",
    "estudiante2.nombre = \"María Nchama\";\n",
    "estudiante2.edad = 21;\n",
    "estudiante2.carrera = \"Grado en Ciencias Económicas\";\n",
    "\n",
    "estudiante1.presentarse();\n",
    "estudiante1.estudiar();\n",
    "estudiante2.presentarse();\n",
    "estudiante2.estudiar();"
   ]
  }
 ],
 "metadata": {
  "kernelspec": {
   "display_name": "Java",
   "language": "java",
   "name": "java"
  },
  "language_info": {
   "codemirror_mode": "java",
   "file_extension": ".jshell",
   "mimetype": "text/x-java-source",
   "name": "Java",
   "pygments_lexer": "java",
   "version": "11.0.26+4-post-Ubuntu-1ubuntu124.04"
  }
 },
 "nbformat": 4,
 "nbformat_minor": 2
}
